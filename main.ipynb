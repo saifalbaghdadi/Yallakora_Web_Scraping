{
 "cells": [
  {
   "cell_type": "code",
   "execution_count": null,
   "metadata": {},
   "outputs": [],
   "source": [
    "# import the necessary packages\n",
    "import requests\n",
    "from bs4 import BeautifulSoup\n",
    "import csv"
   ]
  },
  {
   "cell_type": "code",
   "execution_count": null,
   "metadata": {},
   "outputs": [],
   "source": [
    "# The date of the match you want to get the data for\n",
    "#data = input (\"please enter a Date in the format MM/DD/YYYY: \")  \n",
    "data = (\"3/28/2023\")\n",
    "#The URL of the page you want to scrape\n",
    "page = requests.get(f\"https://www.yallakora.com/match-center/?date={data}\") \n",
    "page"
   ]
  },
  {
   "cell_type": "code",
   "execution_count": null,
   "metadata": {},
   "outputs": [],
   "source": [
    "# function to get content of the page\n",
    "def main(page):\n",
    "    scr = page.content\n",
    "   # parse the html using beautiful soup and store in variable `soup`\n",
    "    soup = BeautifulSoup(scr, 'html.parser')  \n",
    "  \n",
    "\n",
    "    match_detials = []\n",
    "    # div filter by class\n",
    "    championships = soup.find_all('div', {'class': 'matchCard'})\n",
    "    #print(championships)\n",
    "\n",
    "    # function to get information from the match (content from chlidren)\n",
    "    def get_match_info(championships):\n",
    "        champions_title = championships.contents[1].find('h2').text.strip()\n",
    "        print(champions_title)\n",
    "        all_matches = championships.contents[2]\n",
    "        print(all_matches)\n",
    "    get_match_info(championships[0])\n",
    "    \n",
    "\n",
    "main(page)\n"
   ]
  },
  {
   "cell_type": "code",
   "execution_count": null,
   "metadata": {},
   "outputs": [],
   "source": [
    "\n"
   ]
  }
 ],
 "metadata": {
  "kernelspec": {
   "display_name": "Python 3",
   "language": "python",
   "name": "python3"
  },
  "language_info": {
   "codemirror_mode": {
    "name": "ipython",
    "version": 3
   },
   "file_extension": ".py",
   "mimetype": "text/x-python",
   "name": "python",
   "nbconvert_exporter": "python",
   "pygments_lexer": "ipython3",
   "version": "3.11.2"
  },
  "orig_nbformat": 4
 },
 "nbformat": 4,
 "nbformat_minor": 2
}
