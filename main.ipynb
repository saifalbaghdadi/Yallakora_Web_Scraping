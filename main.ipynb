{
 "cells": [
  {
   "cell_type": "code",
   "execution_count": null,
   "metadata": {},
   "outputs": [],
   "source": [
    "# import the necessary packages\n",
    "import requests\n",
    "from bs4 import BeautifulSoup\n",
    "import csv"
   ]
  },
  {
   "cell_type": "code",
   "execution_count": null,
   "metadata": {},
   "outputs": [],
   "source": [
    "# The date of the match you want to get the data for\n",
    "data = input (\"please enter a Date in the format MM/DD/YYYY: \")  \n",
    "#The URL of the page you want to scrape\n",
    "page = requests.get(f\"https://www.yallakora.com/match-center/?date={data}\") \n",
    "page"
   ]
  },
  {
   "cell_type": "code",
   "execution_count": null,
   "metadata": {},
   "outputs": [],
   "source": [
    "# function to get content of the page\n",
    "def main(page):\n",
    "    scr = page.content\n",
    "   # parse the html using beautiful soup and store in variable `soup`\n",
    "    soup = BeautifulSoup(scr, 'html.parser')  \n",
    "  \n",
    "\n",
    "    match_detials = []\n",
    "    # div filter by class\n",
    "    championships = soup.find_all('div', {'class': 'matchCard'})\n",
    "    #print(championships)\n",
    "\n",
    "    # function to get information from the match (content from chlidren)\n",
    "    def get_match_info(championships):\n",
    "        champions_title = championships.contents[1].find('h2').text.strip()\n",
    "        print(champions_title)\n",
    "\n",
    "        # details of all matches\n",
    "        all_matches = championships.contents[3].find_all('li')  \n",
    "\n",
    "        # number of matches\n",
    "        number_of_matches = len(all_matches)  \n",
    "        #print(number_of_matches)\n",
    "\n",
    "        # match details\n",
    "        for i in range(number_of_matches):\n",
    "            # get teams names and scores and time\n",
    "            team_A = all_matches[i].find('div', {'class': 'teamA'}).text.strip()\n",
    "            team_B = all_matches[i].find('div', {'class': 'teamB'}).text.strip()\n",
    "            match_result = all_matches[i].find('div', {'class': 'MResult'}).text.strip().find_all('span',{'class': 'score'}).text.strip()\n",
    "            score = f\"{match_result[0].text.strip()} - {match_result[1].text.strip()}\"\n",
    "\n",
    "            match_time = all_matches[i].find('div', {'class': 'MResult'}).find('span',{'class': 'time'}).text.strip()\n",
    "\n",
    "            # add match info to match_detials list\n",
    "            match_detials.append({\"League type\": champions_title, \"Team A\": team_A, \"Team B\": team_B, \"Score\": score, \"Time\": match_time})\n",
    "\n",
    "        for i in range(len(championships)):\n",
    "            get_match_info(championships[i])\n",
    "\n",
    "\n",
    "        # write to csv file\n",
    "        keys = match_detials[0].keys()\n",
    "        with open('match_detials.csv', 'w') as output_file:\n",
    "            dict_writer = csv.DictWriter(output_file, keys)\n",
    "            dict_writer.writeheader()\n",
    "            dict_writer.writerows(match_detials)\n",
    "\n",
    "\n",
    "\n",
    "main(page)\n"
   ]
  },
  {
   "cell_type": "code",
   "execution_count": null,
   "metadata": {},
   "outputs": [],
   "source": [
    "\n"
   ]
  }
 ],
 "metadata": {
  "kernelspec": {
   "display_name": "Python 3",
   "language": "python",
   "name": "python3"
  },
  "language_info": {
   "codemirror_mode": {
    "name": "ipython",
    "version": 3
   },
   "file_extension": ".py",
   "mimetype": "text/x-python",
   "name": "python",
   "nbconvert_exporter": "python",
   "pygments_lexer": "ipython3",
   "version": "3.11.2"
  },
  "orig_nbformat": 4
 },
 "nbformat": 4,
 "nbformat_minor": 2
}
